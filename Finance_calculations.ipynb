{
 "cells": [
  {
   "cell_type": "code",
   "execution_count": 1,
   "metadata": {},
   "outputs": [],
   "source": [
    "class Simple_Interest():\n",
    "    '''\n",
    "    Docstring: A simple financial calculator build based on the material\n",
    "               learned in class (good way to prep for the exam) \n",
    "    fv --> future value \n",
    "    pv --> present value of investment\n",
    "    r --> nominal anual interest rate \n",
    "    n --> time of investment in days\n",
    "    '''\n",
    "    #fv = float(input(\"Enter FV: \"))\n",
    "    #pv = float(input(\"Enter PV: \"))\n",
    "    #r = float(input(\"Enter r: \"))\n",
    "    #time = float(input(\"Enter n: \"))\n",
    "    #n = time * 30\n",
    "    \n",
    "    def __init__(self, fv=0, pv=0, r=0, n=0):\n",
    "        print (\"Order of values: FV, PV, r, n\")\n",
    "        self.fv = fv\n",
    "        self.pv = pv\n",
    "        self.r = r\n",
    "        self.n = n\n",
    "    \n",
    "    def simple_fv(self):\n",
    "        '''\n",
    "        Calculate feature value \"fv\"\n",
    "        '''\n",
    "        result = self.pv * (1 + self.r * 360/(self.n*30))\n",
    "        return f\"Feature value will be {round(result, 2)}\"\n",
    "        \n",
    "    def simple_pv(self):\n",
    "        '''\n",
    "        Calculate present value \"pv\"\n",
    "        '''\n",
    "        result = self.fv / (1 + self.r * self.n/12)\n",
    "        return f\"Preset value should be {round(result, 2)}\"\n",
    "    \n",
    "    def simple_r(self):\n",
    "        '''\n",
    "        Calculate interest \"r\"\n",
    "        '''\n",
    "        result = (self.fv/self.pv - 1) * (360/(self.n * 31))\n",
    "        return f\"The interest rate is {round(result * 100, 2)}%\"\n",
    "    \n",
    "    def comp_fv(self):\n",
    "        '''\n",
    "        Calculate feature value \"compound interest\"\n",
    "        '''\n",
    "        result = self.pv * (1 + self.r)**self.n\n",
    "        return f\"Future values will be {round(result, 2)}\"\n",
    "    \n",
    "    def comp_pv(self):\n",
    "        '''\n",
    "        Calculate present value \"compound interest\"\n",
    "        '''\n",
    "        result = self.fv / (1 + self.r)**self.n\n",
    "        return f\"Present value should be {round(result, 2)}\"\n",
    "    \n",
    "    \n",
    "# add values in to make simple financial calculation     \n",
    "# simple = Simple_Interest(fv, pv, r, n)        "
   ]
  },
  {
   "cell_type": "code",
   "execution_count": 5,
   "metadata": {},
   "outputs": [
    {
     "name": "stdout",
     "output_type": "stream",
     "text": [
      "Order of values: FV, PV, r, n\n"
     ]
    }
   ],
   "source": [
    "simple = Simple_Interest(0, 100, .10, 1)"
   ]
  },
  {
   "cell_type": "code",
   "execution_count": 6,
   "metadata": {},
   "outputs": [
    {
     "data": {
      "text/plain": [
       "'Feature value will be 220.0'"
      ]
     },
     "execution_count": 6,
     "metadata": {},
     "output_type": "execute_result"
    }
   ],
   "source": [
    "simple.simple_fv()"
   ]
  },
  {
   "cell_type": "code",
   "execution_count": null,
   "metadata": {},
   "outputs": [],
   "source": []
  }
 ],
 "metadata": {
  "kernelspec": {
   "display_name": "Python 3",
   "language": "python",
   "name": "python3"
  },
  "language_info": {
   "codemirror_mode": {
    "name": "ipython",
    "version": 3
   },
   "file_extension": ".py",
   "mimetype": "text/x-python",
   "name": "python",
   "nbconvert_exporter": "python",
   "pygments_lexer": "ipython3",
   "version": "3.8.5"
  }
 },
 "nbformat": 4,
 "nbformat_minor": 4
}
