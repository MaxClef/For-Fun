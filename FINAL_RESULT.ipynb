{
 "cells": [
  {
   "cell_type": "code",
   "execution_count": 1,
   "id": "9c6028b9-4b55-4500-886e-035b2370ff66",
   "metadata": {},
   "outputs": [],
   "source": [
    "# Libraries\n",
    "import pandas as pd\n",
    "import re"
   ]
  },
  {
   "cell_type": "code",
   "execution_count": 2,
   "id": "abefba9c-6dd5-4fbe-8c05-474e8a55ff33",
   "metadata": {},
   "outputs": [
    {
     "data": {
      "text/html": [
       "<div>\n",
       "<style scoped>\n",
       "    .dataframe tbody tr th:only-of-type {\n",
       "        vertical-align: middle;\n",
       "    }\n",
       "\n",
       "    .dataframe tbody tr th {\n",
       "        vertical-align: top;\n",
       "    }\n",
       "\n",
       "    .dataframe thead th {\n",
       "        text-align: right;\n",
       "    }\n",
       "</style>\n",
       "<table border=\"1\" class=\"dataframe\">\n",
       "  <thead>\n",
       "    <tr style=\"text-align: right;\">\n",
       "      <th></th>\n",
       "      <th>FILE_NAME</th>\n",
       "      <th>TEXT</th>\n",
       "      <th>KEYWORDS_FOUND</th>\n",
       "    </tr>\n",
       "  </thead>\n",
       "  <tbody>\n",
       "    <tr>\n",
       "      <th>0</th>\n",
       "      <td>f5d3a80d-017f-1000-8005-c0a83801e672.pdf</td>\n",
       "      <td>Streszczenie W rozprawie zajmujemy się nowym p...</td>\n",
       "      <td>NaN</td>\n",
       "    </tr>\n",
       "    <tr>\n",
       "      <th>1</th>\n",
       "      <td>f5d3a811-017f-1000-8006-c0a83801e672.pdf</td>\n",
       "      <td>Abstract In the thesis we study a recent appro...</td>\n",
       "      <td>NaN</td>\n",
       "    </tr>\n",
       "    <tr>\n",
       "      <th>2</th>\n",
       "      <td>f5d3a815-017f-1000-8007-c0a83801e672.pdf</td>\n",
       "      <td>Memetyczna eksploracja obszarow matej wrazliwo...</td>\n",
       "      <td>NaN</td>\n",
       "    </tr>\n",
       "    <tr>\n",
       "      <th>3</th>\n",
       "      <td>f5d3a817-017f-1000-8008-c0a83801e672.pdf</td>\n",
       "      <td>Memetic exploration of the objective insensiti...</td>\n",
       "      <td>['evolutionary algorithm', 'markov model']</td>\n",
       "    </tr>\n",
       "    <tr>\n",
       "      <th>4</th>\n",
       "      <td>f5d3a819-017f-1000-8009-c0a83801e672.pdf</td>\n",
       "      <td>Mer inz. Roza Dzierzak Summary Application of ...</td>\n",
       "      <td>['neural network', 'convolutional neural netwo...</td>\n",
       "    </tr>\n",
       "  </tbody>\n",
       "</table>\n",
       "</div>"
      ],
      "text/plain": [
       "                                  FILE_NAME  \\\n",
       "0  f5d3a80d-017f-1000-8005-c0a83801e672.pdf   \n",
       "1  f5d3a811-017f-1000-8006-c0a83801e672.pdf   \n",
       "2  f5d3a815-017f-1000-8007-c0a83801e672.pdf   \n",
       "3  f5d3a817-017f-1000-8008-c0a83801e672.pdf   \n",
       "4  f5d3a819-017f-1000-8009-c0a83801e672.pdf   \n",
       "\n",
       "                                                TEXT  \\\n",
       "0  Streszczenie W rozprawie zajmujemy się nowym p...   \n",
       "1  Abstract In the thesis we study a recent appro...   \n",
       "2  Memetyczna eksploracja obszarow matej wrazliwo...   \n",
       "3  Memetic exploration of the objective insensiti...   \n",
       "4  Mer inz. Roza Dzierzak Summary Application of ...   \n",
       "\n",
       "                                      KEYWORDS_FOUND  \n",
       "0                                                NaN  \n",
       "1                                                NaN  \n",
       "2                                                NaN  \n",
       "3         ['evolutionary algorithm', 'markov model']  \n",
       "4  ['neural network', 'convolutional neural netwo...  "
      ]
     },
     "execution_count": 2,
     "metadata": {},
     "output_type": "execute_result"
    }
   ],
   "source": [
    "# df with filename and txt\n",
    "df = pd.read_csv(\"data/df_pdfs\")\n",
    "# df with results\n",
    "df_1 = pd.read_excel(\"data/PDF_RESULT_NEW_OLD_KEYWORDS_FROM_ALDONA.xlsx\")\n",
    "\n",
    "# rename col\n",
    "df_1.rename({\"DOC_NAME\": \"NAME\"},axis = 1, inplace = True)\n",
    "\n",
    "# connect data\n",
    "df_df_1 = pd.merge(df, df_1, on = \"NAME\")\n",
    "\n",
    "df_df_1.drop([\"Unnamed: 0_y\", \"Unnamed: 0_x\"], axis = 1, inplace = True)\n",
    "\n",
    "# leave only file name\n",
    "df_df_1[\"FILE_NAME\"] = list(map(lambda x: x[52:], df_df_1.NAME))\n",
    "df_df_1.drop(\"NAME\", axis = 1, inplace = True)\n",
    "df_df_1 = df_df_1[[\"FILE_NAME\", \"TEXT\", \"KEYWORDS_FOUND\"]]\n",
    "df_df_1.head()"
   ]
  },
  {
   "cell_type": "code",
   "execution_count": 3,
   "id": "54e17947-72d7-48fd-8c6d-578eec304fdf",
   "metadata": {},
   "outputs": [
    {
     "name": "stdout",
     "output_type": "stream",
     "text": [
      "Total number of files that have any keywords: 89\n",
      "14 files have the same text\n",
      "75 are unique\n"
     ]
    },
    {
     "name": "stderr",
     "output_type": "stream",
     "text": [
      "C:\\Users\\mclefos\\AppData\\Local\\Temp\\1/ipykernel_18756/1769739106.py:14: SettingWithCopyWarning: \n",
      "A value is trying to be set on a copy of a slice from a DataFrame.\n",
      "Try using .loc[row_indexer,col_indexer] = value instead\n",
      "\n",
      "See the caveats in the documentation: https://pandas.pydata.org/pandas-docs/stable/user_guide/indexing.html#returning-a-view-versus-a-copy\n",
      "  df_df_1_found_clean[\"KEYWORDS_NUM\"] = list(map(lambda x: len(regex.sub(\" \", x).strip().split(\"   \")), df_df_1_found_clean.KEYWORDS_FOUND))\n"
     ]
    }
   ],
   "source": [
    "# txt with keywords in them\n",
    "df_df_1_found = df_df_1[df_df_1.KEYWORDS_FOUND.notna()]\n",
    "print(f\"Total number of files that have any keywords: {len(df_df_1_found)}\")\n",
    "\n",
    "rep = len(df_df_1_found) - len(set(list(df_df_1_found.TEXT)))\n",
    "print(f\"{rep} files have the same text\")\n",
    "\n",
    "# removing duplicates\n",
    "df_df_1_found_clean = df_df_1_found.drop_duplicates(subset = [\"TEXT\"], keep = \"first\")\n",
    "print(f\"{len(df_df_1_found_clean)} are unique\")\n",
    "\n",
    "# num of keywords in each file\n",
    "regex = re.compile(\"[^a-zA-Z]\")\n",
    "df_df_1_found_clean[\"KEYWORDS_NUM\"] = list(map(lambda x: len(regex.sub(\" \", x).strip().split(\"   \")), df_df_1_found_clean.KEYWORDS_FOUND))\n",
    "\n",
    "df_df_1_found_clean.to_excel(\"data/FINAL_RESULT.xlsx\")"
   ]
  }
 ],
 "metadata": {
  "kernelspec": {
   "display_name": "Python 3 (ipykernel)",
   "language": "python",
   "name": "python3"
  },
  "language_info": {
   "codemirror_mode": {
    "name": "ipython",
    "version": 3
   },
   "file_extension": ".py",
   "mimetype": "text/x-python",
   "name": "python",
   "nbconvert_exporter": "python",
   "pygments_lexer": "ipython3",
   "version": "3.9.7"
  }
 },
 "nbformat": 4,
 "nbformat_minor": 5
}
