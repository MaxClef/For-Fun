{
 "cells": [
  {
   "cell_type": "markdown",
   "metadata": {},
   "source": [
    "# YouTube Scraper\n",
    "**Project done for the Social Network Analysis class. The data extracted is meant to be used with Gephi**\n",
    "\n",
    "* Scraping vedeos from the channels (sample_size follow the comments)\n",
    "* Scraping first 20 recomended videos from each link (you can set the number follow the comments)\n",
    "\n",
    "e.g., If you scrape 10 videos from the channel, after wards you scrape top 20 suggested videos from wach video from the channel: (10 * 20) + 10. The last 10 are the videos from the channel. \n",
    "\n",
    "**NOTE: it takes time (you can change the sleep time if you are confident in your wifi), depending on the set number!!!**\n",
    "\n",
    "\n",
    "### IMPORTANT: scrapetube package and selenium driver (not using an API due to its limits) Also when selenium opens the browser to access YouTube, it is not connecting to your personal account."
   ]
  },
  {
   "cell_type": "code",
   "execution_count": 4,
   "metadata": {},
   "outputs": [
    {
     "name": "stdout",
     "output_type": "stream",
     "text": [
      "Put in your driver path: C:\\chromedriver.exe\n"
     ]
    }
   ],
   "source": [
    "import pandas as pd\n",
    "import scrapetube\n",
    "from selenium import webdriver\n",
    "from bs4 import BeautifulSoup\n",
    "import time\n",
    "\n",
    "selenium_url = \"https://www.selenium.dev/downloads/\"\n",
    "try:\n",
    "    from selenium import webdriver \n",
    "except:\n",
    "    print(\"Print you are missing the package\")\n",
    "    print(f\"You also need the driver path after downloading from here {selenium_url}\")\n",
    "    \n",
    "drive_path = input(\"Put in your driver path: \")\n",
    "# I leave it at 10 links you can try and change that\n",
    "samples = 5"
   ]
  },
  {
   "cell_type": "code",
   "execution_count": 9,
   "metadata": {},
   "outputs": [
    {
     "name": "stdout",
     "output_type": "stream",
     "text": [
      "Name of the 1st channel: freecodecamp\n",
      "Below enter 1st key!\n",
      "Key:UC8butISFwT-Wl7EV0hUK0BQ\n",
      "Name of the 2st channel: programing_with_Mosh\n",
      "Below enter 2nd key!\n",
      "Key:UCWv7vMbMWH4-V0ZXdmDpPBA\n"
     ]
    },
    {
     "name": "stderr",
     "output_type": "stream",
     "text": [
      "<ipython-input-9-7df14de221c3>:66: DeprecationWarning: executable_path has been deprecated, please pass in a Service object\n",
      "  driver = webdriver.Chrome(executable_path = drive_path)\n",
      "<ipython-input-9-7df14de221c3>:58: DeprecationWarning: find_element_by_xpath is deprecated. Please use find_element(by=By.XPATH, value=xpath) instead\n",
      "  agree = driver.find_element_by_xpath(path_1)\n",
      "<ipython-input-9-7df14de221c3>:63: DeprecationWarning: find_elements_by_id is deprecated. Please use find_elements(by=By.ID, value=id_) instead\n",
      "  return [video.get_attribute('href') for video in driver.find_elements_by_id(\"thumbnail\")][1:]\n"
     ]
    },
    {
     "name": "stdout",
     "output_type": "stream",
     "text": [
      "Where do you wanna save the data: C:\\Users\\mkcle\\Desktop\\Uni\\Social Network Analysis\\final\n"
     ]
    }
   ],
   "source": [
    "def check_id(id_):\n",
    "    '''\n",
    "    Docstring: check ID len\n",
    "    '''\n",
    "    link_ = \"https://commentpicker.com/youtube-channel-id.php\"\n",
    "    response = input(\"Do you know how to get the channel id? YES/NO: \")\n",
    "    if response.lower() == \"no\":\n",
    "        print(f\"To get the channel ID go to:  {link_}\")\n",
    "        return input(\"Try again: \")\n",
    "    else:\n",
    "        return input(\"Try again: \")\n",
    "    \n",
    "def get_id():\n",
    "    '''\n",
    "    Docstring: get id from channels\n",
    "    '''\n",
    "    id_ = input(\"Key:\")\n",
    "    while len(id_) != 24:\n",
    "        id_ = input(\"Try again: \")\n",
    "        id_ = check_id(id_) \n",
    "    return id_\n",
    "\n",
    "channel_1 = input(\"Name of the 1st channel: \")\n",
    "print(\"Below enter 1st key!\")\n",
    "id_1 = get_id()\n",
    "\n",
    "channel_2 = input(\"Name of the 2st channel: \")\n",
    "print(\"Below enter 2nd key!\")\n",
    "id_2 = get_id()\n",
    "\n",
    "\n",
    "def get_ch_vids(id_):\n",
    "    '''\n",
    "    Docstring: get video links from channel\n",
    "    '''\n",
    "    links = []\n",
    "    url = \"https://www.youtube.com/watch?v=\"\n",
    "    videos = scrapetube.get_channel(id_)\n",
    "    \n",
    "    for video in videos:\n",
    "        res = url + str(video[\"videoId\"])\n",
    "        links.append(res)\n",
    "    \n",
    "        if len(links) == samples:\n",
    "            break\n",
    "    return links\n",
    "\n",
    "\n",
    "def get_sugg_vids(url):\n",
    "    '''\n",
    "    Docstring: return list of top 20 suggestion from the first 10 links\n",
    "    '''\n",
    "    driver.get(url)\n",
    "    time.sleep(5)   # depending on your internet speed the time can be changed (I set it to 5sec just in case)\n",
    "    # accept thingy\n",
    "    path_1 = '//*[@id=\"onetrust-accept-btn-handler\"]'\n",
    "    try:\n",
    "        agree = driver.find_element_by_xpath(path_1)\n",
    "        agree.click()\n",
    "    except:\n",
    "        pass\n",
    "    time.sleep(5)    # depending on your internet speed the time can be changed (I set it to 5sec just in case)\n",
    "    return [video.get_attribute('href') for video in driver.find_elements_by_id(\"thumbnail\")][1:]\n",
    "\n",
    "\n",
    "driver = webdriver.Chrome(executable_path = drive_path)\n",
    "\n",
    "result_1 = get_ch_vids(id_1)\n",
    "result_2 = get_ch_vids(id_2)\n",
    "\n",
    "lst_1 = []\n",
    "for i in range(samples):\n",
    "    lst_1 = lst_1 + get_sugg_vids(result_1[i])\n",
    "    \n",
    "lst_2 = []\n",
    "for i in range(samples):\n",
    "    lst_2 = lst_2 + get_sugg_vids(result_2[i])\n",
    "    \n",
    "target_1 = result_1 + lst_1 \n",
    "target_2 = result_2 + lst_2\n",
    "\n",
    "df_1 = pd.DataFrame({\"Source\": channel_1, \"Target\": target_1, \"Link\": 1})\n",
    "df_2 = pd.DataFrame({\"Source\": channel_2, \"Target\": target_2, \"Link\": 1})\n",
    "\n",
    "final_result = df_1.append(df_2)\n",
    "final_result.dropna(inplace = True)\n",
    "\n",
    "PATH = input(\"Where do you wanna save the data: \")\n",
    "PATH_ = PATH.replace(\"\\\\\", \"/\")    # if you have Mac you might wanna change this\n",
    "\n",
    "final_result.to_csv(PATH_ + \"/\" + \"final_result.csv\", index = False)    # if you have Mac you might wanna change this"
   ]
  },
  {
   "cell_type": "markdown",
   "metadata": {},
   "source": [
    "* Name of the 1st channel: freecodecamp\n",
    "* Key:UC8butISFwT-Wl7EV0hUK0BQ\n",
    "\n",
    "\n",
    "* Name of the 2st channel: programing_with_Mosh\n",
    "* Key:UCWv7vMbMWH4-V0ZXdmDpPBA"
   ]
  },
  {
   "cell_type": "code",
   "execution_count": null,
   "metadata": {},
   "outputs": [],
   "source": []
  }
 ],
 "metadata": {
  "kernelspec": {
   "display_name": "Python 3",
   "language": "python",
   "name": "python3"
  },
  "language_info": {
   "codemirror_mode": {
    "name": "ipython",
    "version": 3
   },
   "file_extension": ".py",
   "mimetype": "text/x-python",
   "name": "python",
   "nbconvert_exporter": "python",
   "pygments_lexer": "ipython3",
   "version": "3.8.5"
  }
 },
 "nbformat": 4,
 "nbformat_minor": 4
}
